{
 "cells": [
  {
   "cell_type": "code",
   "execution_count": 1,
   "metadata": {},
   "outputs": [],
   "source": [
    "import spacy"
   ]
  },
  {
   "cell_type": "code",
   "execution_count": 2,
   "metadata": {},
   "outputs": [],
   "source": [
    "nlp = spacy.load('en_core_web_sm')"
   ]
  },
  {
   "cell_type": "code",
   "execution_count": 13,
   "metadata": {},
   "outputs": [],
   "source": [
    "doc = nlp(u'i ran today because i love running. I run daily.')"
   ]
  },
  {
   "cell_type": "code",
   "execution_count": 16,
   "metadata": {},
   "outputs": [
    {
     "name": "stdout",
     "output_type": "stream",
     "text": [
      "i          PRON       5097672513440128799           i\n",
      "ran        VERB       12767647472892411841        run\n",
      "today      NOUN       11042482332948150395      today\n",
      "because    ADP        16950148841647037698    because\n",
      "i          PRON       5097672513440128799           i\n",
      "love       VERB       3702023516439754181        love\n",
      "running    VERB       12767647472892411841        run\n",
      ".          PUNCT      12646065887601541794          .\n",
      "I          PRON       561228191312463089       -PRON-\n",
      "run        VERB       12767647472892411841        run\n",
      "daily      ADV        7369875328865446693       daily\n",
      ".          PUNCT      12646065887601541794          .\n",
      "loving     VERB       3702023516439754181        love\n"
     ]
    }
   ],
   "source": [
    "for token in doc:\n",
    "    print(f'{token.text:{10}} {token.pos_:{10}} {token.lemma:<{20}} {token.lemma_:>{10}}')"
   ]
  }
 ],
 "metadata": {
  "kernelspec": {
   "display_name": "Python 3",
   "language": "python",
   "name": "python3"
  },
  "language_info": {
   "codemirror_mode": {
    "name": "ipython",
    "version": 3
   },
   "file_extension": ".py",
   "mimetype": "text/x-python",
   "name": "python",
   "nbconvert_exporter": "python",
   "pygments_lexer": "ipython3",
   "version": "3.7.4"
  }
 },
 "nbformat": 4,
 "nbformat_minor": 2
}
