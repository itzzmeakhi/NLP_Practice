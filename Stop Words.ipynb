{
 "cells": [
  {
   "cell_type": "code",
   "execution_count": 1,
   "metadata": {},
   "outputs": [],
   "source": [
    "# Importing all necessary libraries\n",
    "\n",
    "import spacy"
   ]
  },
  {
   "cell_type": "code",
   "execution_count": 2,
   "metadata": {},
   "outputs": [],
   "source": [
    "# Loading english model\n",
    "\n",
    "nlp = spacy.load('en_core_web_sm')"
   ]
  },
  {
   "cell_type": "code",
   "execution_count": 4,
   "metadata": {},
   "outputs": [
    {
     "name": "stdout",
     "output_type": "stream",
     "text": [
      "{'somehow', 'someone', 'i', 'become', 'both', 'those', 'last', 'him', 'itself', 'everything', 'noone', 'really', 'thru', 'without', 'may', 'beside', 'her', 'over', 'whence', 'where', 'can', 'six', 'sometimes', 'thereby', 'therein', 'take', 'often', 'whoever', 'any', 'if', 'please', 'becomes', 'same', 'alone', 'thereupon', 'hereafter', 'nothing', 'latterly', 'was', 'already', 'down', 'their', 'forty', 'whereby', 'me', 'must', 'back', 'anyhow', 'be', 'everyone', 'however', 'yet', 'either', 'part', 'many', 'call', 'regarding', 'three', 'all', 'or', 'whatever', 'indeed', 'yourselves', 'several', 'there', 'but', 'nevertheless', 'nine', 'a', 'am', 'formerly', 'nor', 'between', 'say', 'are', 'further', 'that', 'this', 'while', 'it', 'only', 'wherein', 'of', 'might', 'after', 'had', 'because', 'yours', 'why', 'enough', 'else', 'other', 'still', 'anyone', 'been', 'among', 'the', 'through', 'yourself', 'few', 'others', 'do', 'whereafter', 'themselves', 'your', 'almost', 'go', 'beyond', 'our', 'keep', 'bottom', 'beforehand', 'perhaps', 'each', 'used', 'cannot', 'around', 'seeming', 'my', 'afterwards', 'until', 'his', 'third', 'is', 'together', 'twelve', 'eight', 'such', 'hereupon', 'than', 'make', 'four', 'across', 'also', 'various', 'fifteen', 'most', 'five', 'moreover', 'whereas', 'became', 'under', 'sometime', 'against', 'an', 'more', 'nobody', 'has', 'therefore', 'they', 'meanwhile', 'except', 'herself', 'although', 'what', 'first', 'always', 'whose', 'too', 'being', 'whom', 'behind', 'seem', 'nowhere', 'mine', 'before', 'upon', 'next', 'here', 'doing', 'thus', 'made', 'some', 'give', 'serious', 'should', 'he', 'myself', 'since', 'she', 'unless', 'we', 'from', 'its', 'out', 'wherever', 'even', 'neither', 'done', 'once', 'us', 'very', 'whether', 'herein', 'move', 'seemed', 'hers', 'ten', 'whenever', 'in', 'have', 'during', 'would', 'again', 'ever', 'you', 'fifty', 'above', 'along', 'becoming', 'put', 'thence', 'see', 'besides', 'per', 'for', 'seems', 'something', 'about', 'could', 'none', 'via', 'as', 'amongst', 're', 'towards', 'into', 'whither', 'hence', 'sixty', 'by', 'amount', 'does', 'latter', 'less', 'no', 'them', 'side', 'much', 'ours', 'own', 'when', 'rather', 'front', 'eleven', 'everywhere', 'these', 'hereby', 'otherwise', 'anywhere', 'never', 'full', 'ourselves', 'two', 'one', 'onto', 'throughout', 'anything', 'due', 'least', 'twenty', 'and', 'hundred', 'on', 'another', 'who', 'show', 'thereafter', 'not', 'up', 'whereupon', 'former', 'mostly', 'which', 'did', 'somewhere', 'whole', 'namely', 'himself', 'ca', 'get', 'were', 'will', 'below', 'now', 'anyway', 'well', 'name', 'quite', 'elsewhere', 'toward', 'at', 'just', 'with', 'then', 'within', 'off', 'to', 'using', 'though', 'empty', 'top', 'how', 'every', 'so'}\n"
     ]
    }
   ],
   "source": [
    "# To view all the pre defined set of stop words\n",
    "# There are about 305 predefined stop words in spacy library\n",
    "\n",
    "print(nlp.Defaults.stop_words)"
   ]
  },
  {
   "cell_type": "code",
   "execution_count": 5,
   "metadata": {},
   "outputs": [
    {
     "name": "stdout",
     "output_type": "stream",
     "text": [
      "305\n"
     ]
    }
   ],
   "source": [
    "# Number of stop words\n",
    "\n",
    "print(len(nlp.Defaults.stop_words))"
   ]
  },
  {
   "cell_type": "code",
   "execution_count": 8,
   "metadata": {},
   "outputs": [
    {
     "data": {
      "text/plain": [
       "True"
      ]
     },
     "execution_count": 8,
     "metadata": {},
     "output_type": "execute_result"
    }
   ],
   "source": [
    "# To check whether a word is a stop word or not\n",
    "\n",
    "nlp.vocab['though'].is_stop"
   ]
  },
  {
   "cell_type": "code",
   "execution_count": 9,
   "metadata": {},
   "outputs": [
    {
     "data": {
      "text/plain": [
       "False"
      ]
     },
     "execution_count": 9,
     "metadata": {},
     "output_type": "execute_result"
    }
   ],
   "source": [
    "nlp.vocab['mystery'].is_stop"
   ]
  },
  {
   "cell_type": "code",
   "execution_count": 10,
   "metadata": {},
   "outputs": [],
   "source": [
    "# To add stop words to the predefined list\n",
    "\n",
    "nlp.Defaults.stop_words.add('btw')"
   ]
  },
  {
   "cell_type": "code",
   "execution_count": 12,
   "metadata": {},
   "outputs": [],
   "source": [
    "# Also set is_stop = True\n",
    "\n",
    "nlp.vocab['btw'].is_stop = True"
   ]
  },
  {
   "cell_type": "code",
   "execution_count": 13,
   "metadata": {},
   "outputs": [
    {
     "data": {
      "text/plain": [
       "306"
      ]
     },
     "execution_count": 13,
     "metadata": {},
     "output_type": "execute_result"
    }
   ],
   "source": [
    "# Lets check the number of stop words\n",
    "# And also try is_stop for btw\n",
    "\n",
    "len(nlp.Defaults.stop_words)"
   ]
  },
  {
   "cell_type": "code",
   "execution_count": 14,
   "metadata": {},
   "outputs": [
    {
     "data": {
      "text/plain": [
       "True"
      ]
     },
     "execution_count": 14,
     "metadata": {},
     "output_type": "execute_result"
    }
   ],
   "source": [
    "nlp.vocab['btw'].is_stop"
   ]
  },
  {
   "cell_type": "code",
   "execution_count": 15,
   "metadata": {},
   "outputs": [],
   "source": [
    "# To remove stop word from a predefined list\n",
    "\n",
    "nlp.Defaults.stop_words.remove('btw')"
   ]
  },
  {
   "cell_type": "code",
   "execution_count": 17,
   "metadata": {},
   "outputs": [],
   "source": [
    "# Also set is_stop to False\n",
    "\n",
    "nlp.vocab['btw'].is_stop = False"
   ]
  },
  {
   "cell_type": "code",
   "execution_count": 18,
   "metadata": {},
   "outputs": [
    {
     "name": "stdout",
     "output_type": "stream",
     "text": [
      "305\n"
     ]
    }
   ],
   "source": [
    "# Length of stop words\n",
    "\n",
    "print(len(nlp.Defaults.stop_words))"
   ]
  },
  {
   "cell_type": "code",
   "execution_count": 19,
   "metadata": {},
   "outputs": [
    {
     "data": {
      "text/plain": [
       "False"
      ]
     },
     "execution_count": 19,
     "metadata": {},
     "output_type": "execute_result"
    }
   ],
   "source": [
    "nlp.vocab['btw'].is_stop"
   ]
  }
 ],
 "metadata": {
  "kernelspec": {
   "display_name": "Python 3",
   "language": "python",
   "name": "python3"
  },
  "language_info": {
   "codemirror_mode": {
    "name": "ipython",
    "version": 3
   },
   "file_extension": ".py",
   "mimetype": "text/x-python",
   "name": "python",
   "nbconvert_exporter": "python",
   "pygments_lexer": "ipython3",
   "version": "3.7.4"
  }
 },
 "nbformat": 4,
 "nbformat_minor": 2
}
